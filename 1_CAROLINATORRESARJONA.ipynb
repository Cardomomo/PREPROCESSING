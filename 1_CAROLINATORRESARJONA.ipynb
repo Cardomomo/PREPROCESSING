{
  "nbformat": 4,
  "nbformat_minor": 0,
  "metadata": {
    "colab": {
      "name": "1_CAROLINATORRESARJONA.ipynb",
      "provenance": [],
      "collapsed_sections": [],
      "authorship_tag": "ABX9TyOZcpPOtxhGKQs9h65Uq4/a",
      "include_colab_link": true
    },
    "kernelspec": {
      "display_name": "Python 3",
      "name": "python3"
    },
    "language_info": {
      "name": "python"
    }
  },
  "cells": [
    {
      "cell_type": "markdown",
      "metadata": {
        "id": "view-in-github",
        "colab_type": "text"
      },
      "source": [
        "<a href=\"https://colab.research.google.com/github/Cardomomo/PREPROCESSING/blob/main/1_CAROLINATORRESARJONA.ipynb\" target=\"_parent\"><img src=\"https://colab.research.google.com/assets/colab-badge.svg\" alt=\"Open In Colab\"/></a>"
      ]
    },
    {
      "cell_type": "markdown",
      "metadata": {
        "id": "_dB9TyyDtOAK"
      },
      "source": [
        "# CAROLINA TORRES ARJONA. DATA 3A\n",
        "# UNIDAD 1 - DATA PREPROCESSING\n",
        "\n"
      ]
    },
    {
      "cell_type": "markdown",
      "metadata": {
        "id": "wkOAbBWWNHy1"
      },
      "source": [
        "#ESTE ES MI PRIMER EJEMPLO DE PYTHON - CAROLINA TORRES ARJONA.\n",
        "#DATA 3A.\n",
        "\n",
        "> Bloc con sangría???  TESTING\n",
        "TESTING TESTING\n",
        "\n",
        "\n"
      ]
    },
    {
      "cell_type": "markdown",
      "metadata": {
        "id": "h4ohtD4hQk1J"
      },
      "source": [
        "    como si fuera codigo\n",
        "    qué mas a ver\n",
        "* Lista\n",
        "* Elemento de la lista\n",
        "\n",
        "## FUNCIONA COMO MARKDOWN\n",
        "\n"
      ]
    },
    {
      "cell_type": "markdown",
      "metadata": {
        "id": "HsYKyniFLO4p"
      },
      "source": [
        "## BASICO "
      ]
    },
    {
      "cell_type": "code",
      "metadata": {
        "colab": {
          "base_uri": "https://localhost:8080/"
        },
        "id": "yq1wrrU6M-FJ",
        "outputId": "82904c8f-d9cb-484b-ff4a-f995e221f512"
      },
      "source": [
        "PI=3.1416\n",
        "SALUDO=\"¡DEBERIA DECIR: SALUDOS!\"\n",
        "print(SALUDO)\n",
        "print(PI)"
      ],
      "execution_count": null,
      "outputs": [
        {
          "output_type": "stream",
          "name": "stdout",
          "text": [
            "¡DEBERIA DECIR: SALUDOS!\n",
            "3.1416\n"
          ]
        }
      ]
    },
    {
      "cell_type": "code",
      "metadata": {
        "id": "EW6_bUk4NHkc",
        "colab": {
          "base_uri": "https://localhost:8080/"
        },
        "outputId": "64023ae4-e946-4538-80fb-76d59e4ce1fa"
      },
      "source": [
        "NOMBRE=input(\"INSERTA TU NOMBRE\")\n"
      ],
      "execution_count": null,
      "outputs": [
        {
          "name": "stdout",
          "output_type": "stream",
          "text": [
            "INSERTA TU NOMBREcarito\n"
          ]
        }
      ]
    },
    {
      "cell_type": "code",
      "metadata": {
        "colab": {
          "base_uri": "https://localhost:8080/"
        },
        "id": "QApcJyQlOSRD",
        "outputId": "b1f74669-5909-4414-f634-81f97588c014"
      },
      "source": [
        "print(NOMBRE,type(NOMBRE))"
      ],
      "execution_count": null,
      "outputs": [
        {
          "output_type": "stream",
          "name": "stdout",
          "text": [
            "carito <class 'str'>\n"
          ]
        }
      ]
    },
    {
      "cell_type": "code",
      "metadata": {
        "colab": {
          "base_uri": "https://localhost:8080/"
        },
        "id": "1EjZ93sgO71z",
        "outputId": "36a24139-3c32-4457-9fce-db6bed0dc52d"
      },
      "source": [
        "A,B,C=13,\"holaa\",True\n",
        "print(A)\n",
        "print(B)\n",
        "print(C)"
      ],
      "execution_count": null,
      "outputs": [
        {
          "output_type": "stream",
          "name": "stdout",
          "text": [
            "13\n",
            "holaa\n",
            "True\n"
          ]
        }
      ]
    },
    {
      "cell_type": "code",
      "metadata": {
        "id": "Hbry-fRFPOQ8"
      },
      "source": [
        "varent=3\n",
        "otravarent=3638734\n",
        "varentnegt=-133"
      ],
      "execution_count": null,
      "outputs": []
    },
    {
      "cell_type": "code",
      "metadata": {
        "id": "aVm-vuLTPcBi",
        "colab": {
          "base_uri": "https://localhost:8080/"
        },
        "outputId": "05f8af79-94bb-492d-df65-e4af8b3d0fe8"
      },
      "source": [
        "print(varent)\n",
        "print(otravarent)\n",
        "print(varentnegt)"
      ],
      "execution_count": null,
      "outputs": [
        {
          "output_type": "stream",
          "name": "stdout",
          "text": [
            "3\n",
            "3638734\n",
            "-133\n"
          ]
        }
      ]
    },
    {
      "cell_type": "code",
      "metadata": {
        "id": "wbBbVVmdPlMQ"
      },
      "source": [
        "varflot=37.3980\n",
        "otravarflot=-328497.0867"
      ],
      "execution_count": null,
      "outputs": []
    },
    {
      "cell_type": "code",
      "metadata": {
        "id": "QXGMX-MtPt4z"
      },
      "source": [
        "varent=True\n",
        "varfalsa=False"
      ],
      "execution_count": null,
      "outputs": []
    },
    {
      "cell_type": "code",
      "metadata": {
        "id": "kPSB-eugP2xp",
        "colab": {
          "base_uri": "https://localhost:8080/"
        },
        "outputId": "1186af6e-697c-4b39-b552-1904122acb45"
      },
      "source": [
        "print(varent)\n",
        "print(varfalsa)"
      ],
      "execution_count": null,
      "outputs": [
        {
          "output_type": "stream",
          "name": "stdout",
          "text": [
            "True\n",
            "False\n"
          ]
        }
      ]
    },
    {
      "cell_type": "code",
      "metadata": {
        "id": "x8tYEp6sP77L",
        "colab": {
          "base_uri": "https://localhost:8080/"
        },
        "outputId": "4e979249-327d-4fb5-83d8-a25d0fe76cd6"
      },
      "source": [
        "import sys\n",
        "print(sys.getsizeof(1.0))\n",
        "print(sys.getsizeof(\"\"))\n",
        "print(sys.getsizeof(\"Hello!\"))\n",
        "print(sys.getsizeof(dict()))\n",
        "print(sys.getsizeof(dict({'a':1,'b':2})))\n",
        "#TAMAÑO DE OBJETO EN BYTES"
      ],
      "execution_count": null,
      "outputs": [
        {
          "output_type": "stream",
          "name": "stdout",
          "text": [
            "24\n",
            "53\n",
            "55\n",
            "248\n",
            "248\n"
          ]
        }
      ]
    },
    {
      "cell_type": "code",
      "metadata": {
        "id": "eHFIBc7TdbH3"
      },
      "source": [
        "nombre=\"CAROLINA\"\n",
        "edad=21"
      ],
      "execution_count": null,
      "outputs": []
    },
    {
      "cell_type": "code",
      "metadata": {
        "colab": {
          "base_uri": "https://localhost:8080/"
        },
        "id": "XVWqmbYYdfqC",
        "outputId": "389d43d3-d9fb-4df4-d87c-4abad5aa6a8a"
      },
      "source": [
        "print(\"ME LLAMO:\",nombre)\n",
        "print(\"TENGO\",edad,\"AÑOS\")"
      ],
      "execution_count": null,
      "outputs": [
        {
          "output_type": "stream",
          "name": "stdout",
          "text": [
            "ME LLAMO: CAROLINA\n",
            "TENGO 21 AÑOS\n"
          ]
        }
      ]
    },
    {
      "cell_type": "code",
      "metadata": {
        "colab": {
          "base_uri": "https://localhost:8080/"
        },
        "id": "2ICxFO_cd1lB",
        "outputId": "0d3313ed-2db1-4460-d53e-51cb42eb4fa6"
      },
      "source": [
        "entero=3.3\n",
        "\n",
        "type(entero)"
      ],
      "execution_count": null,
      "outputs": [
        {
          "output_type": "execute_result",
          "data": {
            "text/plain": [
              "float"
            ]
          },
          "metadata": {},
          "execution_count": 16
        }
      ]
    },
    {
      "cell_type": "code",
      "metadata": {
        "colab": {
          "base_uri": "https://localhost:8080/"
        },
        "id": "4j1JEf1JeB09",
        "outputId": "0be76163-b47b-48be-c19e-b4afb7b92b68"
      },
      "source": [
        "float(entero)\n",
        "type(entero)"
      ],
      "execution_count": null,
      "outputs": [
        {
          "output_type": "execute_result",
          "data": {
            "text/plain": [
              "float"
            ]
          },
          "metadata": {},
          "execution_count": 17
        }
      ]
    },
    {
      "cell_type": "code",
      "metadata": {
        "colab": {
          "base_uri": "https://localhost:8080/"
        },
        "id": "sXJOicksemIW",
        "outputId": "6cdc9f5d-12b3-46dc-c7ef-b718283b9a91"
      },
      "source": [
        "DATO1=float(input())#CONVERTIR EN INT O FLOAT \n",
        "DATO2=int(input())#EL INPUT POR SI SOLO GUARDA EN STRING ASI QUE SE DEBE ESPECIFICAR\n",
        "print(DATO1)\n",
        "print(DATO2)\n",
        "print(type(DATO1))\n",
        "type(DATO2)"
      ],
      "execution_count": null,
      "outputs": [
        {
          "output_type": "stream",
          "name": "stdout",
          "text": [
            "3\n",
            "2\n",
            "3.0\n",
            "2\n",
            "<class 'float'>\n"
          ]
        },
        {
          "output_type": "execute_result",
          "data": {
            "text/plain": [
              "int"
            ]
          },
          "metadata": {},
          "execution_count": 18
        }
      ]
    },
    {
      "cell_type": "code",
      "metadata": {
        "colab": {
          "base_uri": "https://localhost:8080/"
        },
        "id": "Jn-Mhkscfivv",
        "outputId": "6247f8f7-0f3b-4621-d12f-fec056c6b8ea"
      },
      "source": [
        "SUMADATOS=DATO1+DATO2\n",
        "print(SUMADATOS)\n",
        "type(SUMADATOS)\n"
      ],
      "execution_count": null,
      "outputs": [
        {
          "output_type": "stream",
          "name": "stdout",
          "text": [
            "5.0\n"
          ]
        },
        {
          "output_type": "execute_result",
          "data": {
            "text/plain": [
              "float"
            ]
          },
          "metadata": {},
          "execution_count": 19
        }
      ]
    },
    {
      "cell_type": "code",
      "metadata": {
        "colab": {
          "base_uri": "https://localhost:8080/"
        },
        "id": "1Yh3a99yh-Aw",
        "outputId": "2bc78437-aaad-4140-8416-b195e652a2a5"
      },
      "source": [
        "if (3>0):\n",
        "  print(\"3 ES MAYOR QUE 0\")#RECUERDA IDENTAR CORRECTAMENTE"
      ],
      "execution_count": null,
      "outputs": [
        {
          "output_type": "stream",
          "name": "stdout",
          "text": [
            "3 ES MAYOR QUE 0\n"
          ]
        }
      ]
    },
    {
      "cell_type": "code",
      "metadata": {
        "colab": {
          "base_uri": "https://localhost:8080/"
        },
        "id": "VUe5Viw1jzG3",
        "outputId": "f8e1af26-e5e5-45eb-e7af-d3a2405a41c2"
      },
      "source": [
        "if (3>0):\n",
        "  print(\"3 ES MAYOR QU 0\")\n",
        "elif (3<5):\n",
        "  print(\"3 ES MAYORQUE 2 TAMBIEN\")\n",
        "else:\n",
        "  print(\"NEL\")\n",
        "  #SI EL IF ES TRUE ENTONCES NO AVANZA AL ELIF. "
      ],
      "execution_count": null,
      "outputs": [
        {
          "output_type": "stream",
          "name": "stdout",
          "text": [
            "3 ES MAYOR QU 0\n"
          ]
        }
      ]
    },
    {
      "cell_type": "code",
      "metadata": {
        "colab": {
          "base_uri": "https://localhost:8080/"
        },
        "id": "lrV8x7KTkGOq",
        "outputId": "f1bd13d0-d9ca-4a01-ea2c-03fddc4e0548"
      },
      "source": [
        "\n",
        "for n in range(10):\n",
        "  print(n)\n"
      ],
      "execution_count": null,
      "outputs": [
        {
          "output_type": "stream",
          "name": "stdout",
          "text": [
            "0\n",
            "1\n",
            "2\n",
            "3\n",
            "4\n",
            "5\n",
            "6\n",
            "7\n",
            "8\n",
            "9\n"
          ]
        }
      ]
    },
    {
      "cell_type": "code",
      "metadata": {
        "colab": {
          "base_uri": "https://localhost:8080/"
        },
        "id": "_NdcB7lRmLjm",
        "outputId": "c0d6c74d-ded6-4d10-b02d-42841284cbd1"
      },
      "source": [
        "lista=[3,13,\"HEHE\"]\n",
        "for n in lista:\n",
        "  print(n)#LISTA COMO ES PRESENTADA"
      ],
      "execution_count": null,
      "outputs": [
        {
          "output_type": "stream",
          "name": "stdout",
          "text": [
            "3\n",
            "13\n",
            "HEHE\n"
          ]
        }
      ]
    },
    {
      "cell_type": "code",
      "metadata": {
        "colab": {
          "base_uri": "https://localhost:8080/"
        },
        "id": "MD7-Fxo5meSC",
        "outputId": "fbadb26c-1056-4845-b374-45175a5c1de2"
      },
      "source": [
        "listas=[6,13,33,\"hola\"]\n",
        "for r in listas:\n",
        "  print(r)\n",
        "  "
      ],
      "execution_count": null,
      "outputs": [
        {
          "output_type": "stream",
          "name": "stdout",
          "text": [
            "6\n",
            "13\n",
            "33\n",
            "hola\n"
          ]
        }
      ]
    },
    {
      "cell_type": "code",
      "metadata": {
        "colab": {
          "base_uri": "https://localhost:8080/"
        },
        "id": "2EN_v3DfnmAQ",
        "outputId": "6aed655e-7f65-4922-ee7c-6244d66bf943"
      },
      "source": [
        "print(listas[2])#UN LUGAR DE UNA LISTA POSICION"
      ],
      "execution_count": null,
      "outputs": [
        {
          "output_type": "stream",
          "name": "stdout",
          "text": [
            "33\n"
          ]
        }
      ]
    },
    {
      "cell_type": "code",
      "metadata": {
        "colab": {
          "base_uri": "https://localhost:8080/"
        },
        "id": "npYCc5Oel3mG",
        "outputId": "1b2c692a-a66c-45ac-d03c-95a1f5faa71f"
      },
      "source": [
        "for n in range(-10,10,2):\n",
        "  print(n)#DE 2 EN 2, DESDE -10 HASTA 10"
      ],
      "execution_count": null,
      "outputs": [
        {
          "output_type": "stream",
          "name": "stdout",
          "text": [
            "-10\n",
            "-8\n",
            "-6\n",
            "-4\n",
            "-2\n",
            "0\n",
            "2\n",
            "4\n",
            "6\n",
            "8\n"
          ]
        }
      ]
    },
    {
      "cell_type": "code",
      "metadata": {
        "colab": {
          "base_uri": "https://localhost:8080/"
        },
        "id": "QMWv96Vvnr5o",
        "outputId": "d1559a67-fab8-483f-c4d6-bbc3645dcc9f"
      },
      "source": [
        "i=1\n",
        "while i<=6:\n",
        "  print(i)\n",
        "  i+=1\n",
        "  #WHILE"
      ],
      "execution_count": null,
      "outputs": [
        {
          "output_type": "stream",
          "name": "stdout",
          "text": [
            "1\n",
            "2\n",
            "3\n",
            "4\n",
            "5\n",
            "6\n"
          ]
        }
      ]
    },
    {
      "cell_type": "code",
      "metadata": {
        "colab": {
          "base_uri": "https://localhost:8080/"
        },
        "id": "Pk1wYO1_of3q",
        "outputId": "2d5fa306-1863-4c2d-e568-cf5c60cfe841"
      },
      "source": [
        "i=7\n",
        "while True:\n",
        "  print(i)\n",
        "  i=i+1\n",
        "  if(i>6):\n",
        "    break\n",
        "    #DO WHILE: CONDICION SE EVALUA AL FINAL, SE HACE AL MENOS UNA VEZ INCLUSO SI AL PRINCIPIO ES FALSE"
      ],
      "execution_count": null,
      "outputs": [
        {
          "output_type": "stream",
          "name": "stdout",
          "text": [
            "7\n"
          ]
        }
      ]
    },
    {
      "cell_type": "code",
      "metadata": {
        "id": "QZez2JaLqDVa",
        "colab": {
          "base_uri": "https://localhost:8080/"
        },
        "outputId": "abcbff70-c6b1-4d23-e4d4-4ba4d2b8b2ce"
      },
      "source": [
        "#INICIAMOS FUNCIONES---------------------------------------------------\n",
        "def saludo():\n",
        "  return \"HOLA CARITO\"\n",
        "print(saludo())"
      ],
      "execution_count": null,
      "outputs": [
        {
          "output_type": "stream",
          "name": "stdout",
          "text": [
            "HOLA CARITO\n"
          ]
        }
      ]
    },
    {
      "cell_type": "code",
      "metadata": {
        "colab": {
          "base_uri": "https://localhost:8080/"
        },
        "id": "449qSd6UBWZk",
        "outputId": "30ba92cf-e20a-420e-86be-ad07d9836992"
      },
      "source": [
        "def saludo2():\n",
        "  print(\"HOLA DE NUEVO CARITO\")\n",
        "saludo2()"
      ],
      "execution_count": null,
      "outputs": [
        {
          "output_type": "stream",
          "name": "stdout",
          "text": [
            "HOLA DE NUEVO CARITO\n"
          ]
        }
      ]
    },
    {
      "cell_type": "code",
      "metadata": {
        "id": "PlAT0WhMCXi8"
      },
      "source": [
        "def suma(a1,b1):\n",
        "  return a1+b1\n"
      ],
      "execution_count": null,
      "outputs": []
    },
    {
      "cell_type": "code",
      "metadata": {
        "id": "iwabzNT3Dinl"
      },
      "source": [
        "def resta(a1,b1):\n",
        "  return a1-b1"
      ],
      "execution_count": null,
      "outputs": []
    },
    {
      "cell_type": "code",
      "metadata": {
        "colab": {
          "base_uri": "https://localhost:8080/"
        },
        "id": "1JzMUFztDpcM",
        "outputId": "54e72714-2a3c-4fe8-e189-67e8884a9e56"
      },
      "source": [
        "x,y=5,4\n",
        "ss=suma(x,y)\n",
        "rr=resta(x,y)\n",
        "print(ss)\n",
        "print(rr)"
      ],
      "execution_count": null,
      "outputs": [
        {
          "output_type": "stream",
          "name": "stdout",
          "text": [
            "9\n",
            "1\n"
          ]
        }
      ]
    },
    {
      "cell_type": "code",
      "metadata": {
        "id": "tacD_zkCD1BK"
      },
      "source": [
        "def caller(a1,b1):\n",
        "  return suma(a1,b1), resta(b1,a1)#REGRESO 2 LLAMDAS A FUNCIONES PREVIAS\n"
      ],
      "execution_count": null,
      "outputs": []
    },
    {
      "cell_type": "code",
      "metadata": {
        "colab": {
          "base_uri": "https://localhost:8080/"
        },
        "id": "_NVAIyBOEXyW",
        "outputId": "5de46171-ea4f-41b1-8a2b-f7b967a43341"
      },
      "source": [
        "x,y=10,13\n",
        "llamada=caller(x,y)#LLAMO A LA F CALLER QUE LLAMARA A SU VEZ A FS suma Y resta.\n",
        "print(llamada)"
      ],
      "execution_count": null,
      "outputs": [
        {
          "output_type": "stream",
          "name": "stdout",
          "text": [
            "(23, 3)\n"
          ]
        }
      ]
    },
    {
      "cell_type": "code",
      "metadata": {
        "colab": {
          "base_uri": "https://localhost:8080/"
        },
        "id": "o3o-jbl4EqzH",
        "outputId": "82a2f1df-62ca-4770-913c-6be944ad1574"
      },
      "source": [
        "print(caller(3,3))"
      ],
      "execution_count": null,
      "outputs": [
        {
          "output_type": "stream",
          "name": "stdout",
          "text": [
            "(6, 0)\n"
          ]
        }
      ]
    },
    {
      "cell_type": "code",
      "metadata": {
        "colab": {
          "base_uri": "https://localhost:8080/"
        },
        "id": "HcX3TDJBFuYl",
        "outputId": "c8bab17d-e238-46b0-b459-e4435f73f94b"
      },
      "source": [
        "def numero(a):\n",
        "  if a == 0:\n",
        "    return \"cero\"\n",
        "  elif a < 0:\n",
        "    return \"negativo\"\n",
        "  return \"positivo\"\n",
        "\n",
        "\n",
        "print(numero(3))\n",
        "print(numero(-1))\n",
        "print(numero(0))"
      ],
      "execution_count": null,
      "outputs": [
        {
          "output_type": "stream",
          "name": "stdout",
          "text": [
            "positivo\n",
            "negativo\n",
            "cero\n"
          ]
        }
      ]
    },
    {
      "cell_type": "markdown",
      "metadata": {
        "id": "4eLcE-zUIsWB"
      },
      "source": [
        "##LIBRERIAS\n",
        "* math\n",
        "* panda\n",
        "* numpy\n",
        "* random\n",
        "\n",
        "    SE IMPORTA COMO \n",
        "    import.LIBRERIA"
      ]
    },
    {
      "cell_type": "code",
      "metadata": {
        "id": "t0syqYpxJBbj"
      },
      "source": [
        "import numpy as np"
      ],
      "execution_count": null,
      "outputs": []
    },
    {
      "cell_type": "markdown",
      "metadata": {
        "id": "7g23Qb7zJv5A"
      },
      "source": [
        "## LISTA"
      ]
    },
    {
      "cell_type": "code",
      "metadata": {
        "colab": {
          "base_uri": "https://localhost:8080/"
        },
        "id": "2HpHraU4JRFg",
        "outputId": "5512accd-a1d9-4f32-8c7e-e7fd9fb89249"
      },
      "source": [
        "np.arange(10)#GENERO ARREGLO DE X VALORES"
      ],
      "execution_count": null,
      "outputs": [
        {
          "output_type": "execute_result",
          "data": {
            "text/plain": [
              "array([0, 1, 2, 3, 4, 5, 6, 7, 8, 9])"
            ]
          },
          "metadata": {},
          "execution_count": 88
        }
      ]
    },
    {
      "cell_type": "code",
      "metadata": {
        "colab": {
          "base_uri": "https://localhost:8080/"
        },
        "id": "2dGidUbwJTQF",
        "outputId": "ed089c84-e3f3-4954-f777-b682f2107b56"
      },
      "source": [
        "np.arange(5,10)"
      ],
      "execution_count": null,
      "outputs": [
        {
          "output_type": "execute_result",
          "data": {
            "text/plain": [
              "array([5, 6, 7, 8, 9])"
            ]
          },
          "metadata": {},
          "execution_count": 89
        }
      ]
    },
    {
      "cell_type": "code",
      "metadata": {
        "colab": {
          "base_uri": "https://localhost:8080/"
        },
        "id": "zivibLoXJf9k",
        "outputId": "14aff7f2-1526-451e-d13f-a9a4bce805e3"
      },
      "source": [
        "np.arange(5,10,2)"
      ],
      "execution_count": null,
      "outputs": [
        {
          "output_type": "execute_result",
          "data": {
            "text/plain": [
              "array([5, 7, 9])"
            ]
          },
          "metadata": {},
          "execution_count": 90
        }
      ]
    },
    {
      "cell_type": "code",
      "metadata": {
        "colab": {
          "base_uri": "https://localhost:8080/"
        },
        "id": "SAZ6r-BPJiHk",
        "outputId": "bf6685dc-a806-4c10-da11-7da937827acf"
      },
      "source": [
        "lista1 = np.linspace(0,10,3)#LISTA DE (x,y,z) DONDE x ES DESDE DONDE\n",
        "#y ES HASTA DONDE\n",
        "#z ES CON CUANTOS ELEMENTOS DENTRO DE LA LISTA\n",
        "lista1"
      ],
      "execution_count": null,
      "outputs": [
        {
          "output_type": "execute_result",
          "data": {
            "text/plain": [
              "array([ 0.,  5., 10.])"
            ]
          },
          "metadata": {},
          "execution_count": 96
        }
      ]
    },
    {
      "cell_type": "code",
      "metadata": {
        "colab": {
          "base_uri": "https://localhost:8080/"
        },
        "id": "cPVlVskuJ8wy",
        "outputId": "12e8bc12-ae76-4b70-b19d-d1a1708addaf"
      },
      "source": [
        "lista1.max()"
      ],
      "execution_count": null,
      "outputs": [
        {
          "output_type": "execute_result",
          "data": {
            "text/plain": [
              "10.0"
            ]
          },
          "metadata": {},
          "execution_count": 97
        }
      ]
    },
    {
      "cell_type": "code",
      "metadata": {
        "colab": {
          "base_uri": "https://localhost:8080/"
        },
        "id": "9jUCdu5sKRoy",
        "outputId": "01771870-d83c-4c38-b206-a09e50e29cfe"
      },
      "source": [
        "lista1.min()"
      ],
      "execution_count": null,
      "outputs": [
        {
          "output_type": "execute_result",
          "data": {
            "text/plain": [
              "0.0"
            ]
          },
          "metadata": {},
          "execution_count": 98
        }
      ]
    },
    {
      "cell_type": "code",
      "metadata": {
        "colab": {
          "base_uri": "https://localhost:8080/"
        },
        "id": "AX6aFfspKcHv",
        "outputId": "a2322112-6a85-458d-dfff-9045b5ba1c9b"
      },
      "source": [
        "lista1.mean()"
      ],
      "execution_count": null,
      "outputs": [
        {
          "output_type": "execute_result",
          "data": {
            "text/plain": [
              "5.0"
            ]
          },
          "metadata": {},
          "execution_count": 99
        }
      ]
    },
    {
      "cell_type": "code",
      "metadata": {
        "colab": {
          "base_uri": "https://localhost:8080/"
        },
        "id": "p2-_Vo_JKi-2",
        "outputId": "f95fb4f7-c99f-4ba6-af5b-68d864e69951"
      },
      "source": [
        "lista1.std()"
      ],
      "execution_count": null,
      "outputs": [
        {
          "output_type": "execute_result",
          "data": {
            "text/plain": [
              "4.08248290463863"
            ]
          },
          "metadata": {},
          "execution_count": 100
        }
      ]
    },
    {
      "cell_type": "code",
      "metadata": {
        "colab": {
          "base_uri": "https://localhost:8080/"
        },
        "id": "djAzzl0UKpCw",
        "outputId": "97ded12c-79a7-4c9c-c81c-a76881f77be0"
      },
      "source": [
        "type(lista1)"
      ],
      "execution_count": null,
      "outputs": [
        {
          "output_type": "execute_result",
          "data": {
            "text/plain": [
              "numpy.ndarray"
            ]
          },
          "metadata": {},
          "execution_count": 101
        }
      ]
    },
    {
      "cell_type": "code",
      "metadata": {
        "colab": {
          "base_uri": "https://localhost:8080/"
        },
        "id": "LtXF-bK0LY-0",
        "outputId": "1e34d8a2-87a6-4ee7-c657-573ae90ef5f5"
      },
      "source": [
        "lista1.sum()"
      ],
      "execution_count": null,
      "outputs": [
        {
          "output_type": "execute_result",
          "data": {
            "text/plain": [
              "15.0"
            ]
          },
          "metadata": {},
          "execution_count": 102
        }
      ]
    },
    {
      "cell_type": "code",
      "metadata": {
        "colab": {
          "base_uri": "https://localhost:8080/"
        },
        "id": "iNvP_eaPLteA",
        "outputId": "a4ef674f-5945-4a68-9ca0-355a0691a329"
      },
      "source": [
        "np.median(lista1)"
      ],
      "execution_count": null,
      "outputs": [
        {
          "output_type": "execute_result",
          "data": {
            "text/plain": [
              "5.0"
            ]
          },
          "metadata": {},
          "execution_count": 104
        }
      ]
    },
    {
      "cell_type": "markdown",
      "metadata": {
        "id": "tcyAWPkpMB3N"
      },
      "source": [
        "## ARRAY"
      ]
    },
    {
      "cell_type": "code",
      "metadata": {
        "id": "WnIkjEm0MJQ1"
      },
      "source": [
        "import numpy as np\n",
        "A=np.array([[1,2,3],[4,5,6],[7,8,9]])"
      ],
      "execution_count": null,
      "outputs": []
    },
    {
      "cell_type": "code",
      "metadata": {
        "colab": {
          "base_uri": "https://localhost:8080/"
        },
        "id": "-FNRj3BeMJsN",
        "outputId": "f864e954-49b2-40ce-c10b-f05f119f73d7"
      },
      "source": [
        "A"
      ],
      "execution_count": null,
      "outputs": [
        {
          "output_type": "execute_result",
          "data": {
            "text/plain": [
              "array([[1, 2, 3],\n",
              "       [4, 5, 6],\n",
              "       [7, 8, 9]])"
            ]
          },
          "metadata": {},
          "execution_count": 107
        }
      ]
    },
    {
      "cell_type": "code",
      "metadata": {
        "id": "NvAhN8zqMW0G"
      },
      "source": [
        "B=np.mat(A)"
      ],
      "execution_count": null,
      "outputs": []
    },
    {
      "cell_type": "code",
      "metadata": {
        "colab": {
          "base_uri": "https://localhost:8080/"
        },
        "id": "f5sLrVFhMdiA",
        "outputId": "1db5cefb-48c1-4d6d-80ab-a2b16e5e718c"
      },
      "source": [
        "B"
      ],
      "execution_count": null,
      "outputs": [
        {
          "output_type": "execute_result",
          "data": {
            "text/plain": [
              "matrix([[1, 2, 3],\n",
              "        [4, 5, 6],\n",
              "        [7, 8, 9]])"
            ]
          },
          "metadata": {},
          "execution_count": 113
        }
      ]
    },
    {
      "cell_type": "code",
      "metadata": {
        "colab": {
          "base_uri": "https://localhost:8080/"
        },
        "id": "zK7zCoOkMeTS",
        "outputId": "4d494857-50a4-44cf-b0de-f242532d9830"
      },
      "source": [
        "A*A#MULTIPLICA DIRECTAMENTE NO COMO MATRIZ"
      ],
      "execution_count": null,
      "outputs": [
        {
          "output_type": "execute_result",
          "data": {
            "text/plain": [
              "array([[ 1,  4,  9],\n",
              "       [16, 25, 36],\n",
              "       [49, 64, 81]])"
            ]
          },
          "metadata": {},
          "execution_count": 114
        }
      ]
    },
    {
      "cell_type": "code",
      "metadata": {
        "colab": {
          "base_uri": "https://localhost:8080/"
        },
        "id": "KF2ftE8dMmkl",
        "outputId": "1beca3d8-320a-4fae-91de-b08ed69d2f64"
      },
      "source": [
        "B*B#MULTIPLICA DE MANERA CORRECTA COMO UNA MATRIZ"
      ],
      "execution_count": null,
      "outputs": [
        {
          "output_type": "execute_result",
          "data": {
            "text/plain": [
              "matrix([[ 30,  36,  42],\n",
              "        [ 66,  81,  96],\n",
              "        [102, 126, 150]])"
            ]
          },
          "metadata": {},
          "execution_count": 115
        }
      ]
    },
    {
      "cell_type": "code",
      "metadata": {
        "colab": {
          "base_uri": "https://localhost:8080/"
        },
        "id": "u9DNiYUZMqx_",
        "outputId": "c60a668d-f8ac-484a-92a2-b8a5930f952c"
      },
      "source": [
        "B.T #TRANSPUESTA LA MATRIZ"
      ],
      "execution_count": null,
      "outputs": [
        {
          "output_type": "execute_result",
          "data": {
            "text/plain": [
              "matrix([[1, 4, 7],\n",
              "        [2, 5, 8],\n",
              "        [3, 6, 9]])"
            ]
          },
          "metadata": {},
          "execution_count": 117
        }
      ]
    },
    {
      "cell_type": "code",
      "metadata": {
        "colab": {
          "base_uri": "https://localhost:8080/"
        },
        "id": "12rbgN8aNHhF",
        "outputId": "92767306-773b-48a8-f9fa-60d2d4cdc2a0"
      },
      "source": [
        "B.diagonal()"
      ],
      "execution_count": null,
      "outputs": [
        {
          "output_type": "execute_result",
          "data": {
            "text/plain": [
              "matrix([[1, 5, 9]])"
            ]
          },
          "metadata": {},
          "execution_count": 118
        }
      ]
    },
    {
      "cell_type": "markdown",
      "metadata": {
        "id": "9a3sYkOhNeWH"
      },
      "source": [
        "## LIBRERIA RANDOM"
      ]
    },
    {
      "cell_type": "code",
      "metadata": {
        "id": "7n3U1zuCNkWv"
      },
      "source": [
        "import random\n",
        "items=[\"HIDALGO\", \"YUCATAN\", \"JALISCO\", \"QUERETARO\", \"JERRYRILANDIA\", \"DURANGO\"]"
      ],
      "execution_count": null,
      "outputs": []
    },
    {
      "cell_type": "code",
      "metadata": {
        "colab": {
          "base_uri": "https://localhost:8080/"
        },
        "id": "z0laN4BPNy3J",
        "outputId": "33d273e2-3f29-404b-e98d-2257fe7189ec"
      },
      "source": [
        "for i in range(13):\n",
        "  print(\"-------UN DADO\",random.randrange(1,7))\n",
        "  print(\".       .OTRO DADO\",random.randrange(0,4))\n",
        "  print(random.random())"
      ],
      "execution_count": null,
      "outputs": [
        {
          "output_type": "stream",
          "name": "stdout",
          "text": [
            "-------UN DADO 5\n",
            ".       .OTRO DADO 1\n",
            "0.318894264810055\n",
            "-------UN DADO 4\n",
            ".       .OTRO DADO 2\n",
            "0.8635242364530895\n",
            "-------UN DADO 6\n",
            ".       .OTRO DADO 3\n",
            "0.19440054931883533\n",
            "-------UN DADO 5\n",
            ".       .OTRO DADO 3\n",
            "0.835152834436364\n",
            "-------UN DADO 6\n",
            ".       .OTRO DADO 3\n",
            "0.08851367582329617\n",
            "-------UN DADO 6\n",
            ".       .OTRO DADO 1\n",
            "0.37078866399759636\n",
            "-------UN DADO 2\n",
            ".       .OTRO DADO 0\n",
            "0.6294775431397143\n",
            "-------UN DADO 2\n",
            ".       .OTRO DADO 2\n",
            "0.6900220889714965\n",
            "-------UN DADO 5\n",
            ".       .OTRO DADO 1\n",
            "0.9734227699787715\n",
            "-------UN DADO 2\n",
            ".       .OTRO DADO 3\n",
            "0.665674094221874\n",
            "-------UN DADO 3\n",
            ".       .OTRO DADO 3\n",
            "0.08735645970474681\n",
            "-------UN DADO 6\n",
            ".       .OTRO DADO 0\n",
            "0.8510226703236481\n",
            "-------UN DADO 2\n",
            ".       .OTRO DADO 0\n",
            "0.9232050068457617\n"
          ]
        }
      ]
    },
    {
      "cell_type": "code",
      "metadata": {
        "colab": {
          "base_uri": "https://localhost:8080/"
        },
        "id": "V4LLJy6XOAOJ",
        "outputId": "62880779-7d78-4690-f053-675f3d39cf4f"
      },
      "source": [
        "print(random.choices(items,k=2))#TOMA K ELEMENTOS Y PUEDEN SER REPETIDOS"
      ],
      "execution_count": null,
      "outputs": [
        {
          "output_type": "stream",
          "name": "stdout",
          "text": [
            "['DURANGO', 'YUCATAN']\n"
          ]
        }
      ]
    },
    {
      "cell_type": "code",
      "metadata": {
        "colab": {
          "base_uri": "https://localhost:8080/"
        },
        "id": "2H0KZjzLOgXI",
        "outputId": "e85712c1-c767-461f-8473-541446be0174"
      },
      "source": [
        "print(random.sample(items,3))#TOMA ELEMENTO DE LISTA PERO NOOO REPETIDOS"
      ],
      "execution_count": null,
      "outputs": [
        {
          "output_type": "stream",
          "name": "stdout",
          "text": [
            "['YUCATAN', 'JERRYRILANDIA', 'JALISCO']\n"
          ]
        }
      ]
    },
    {
      "cell_type": "code",
      "metadata": {
        "id": "9PwBPGOkr69e"
      },
      "source": [
        ""
      ],
      "execution_count": null,
      "outputs": []
    },
    {
      "cell_type": "markdown",
      "metadata": {
        "id": "cOxOdn60O_CY"
      },
      "source": [
        "## LIBRERIA PANDA"
      ]
    },
    {
      "cell_type": "code",
      "metadata": {
        "id": "6jDFFmlNPAZZ",
        "colab": {
          "base_uri": "https://localhost:8080/",
          "height": 204
        },
        "outputId": "da1158d4-2b1a-45a0-f860-a38a3e38ae8f"
      },
      "source": [
        "#importar datos\n",
        "\n",
        "import pandas as pd\n",
        "iris_data = pd.read_csv('sample_data/iris-data.csv')\n",
        "iris_data.head()"
      ],
      "execution_count": null,
      "outputs": [
        {
          "output_type": "execute_result",
          "data": {
            "text/html": [
              "<div>\n",
              "<style scoped>\n",
              "    .dataframe tbody tr th:only-of-type {\n",
              "        vertical-align: middle;\n",
              "    }\n",
              "\n",
              "    .dataframe tbody tr th {\n",
              "        vertical-align: top;\n",
              "    }\n",
              "\n",
              "    .dataframe thead th {\n",
              "        text-align: right;\n",
              "    }\n",
              "</style>\n",
              "<table border=\"1\" class=\"dataframe\">\n",
              "  <thead>\n",
              "    <tr style=\"text-align: right;\">\n",
              "      <th></th>\n",
              "      <th>sepal_length_cm</th>\n",
              "      <th>sepal_width_cm</th>\n",
              "      <th>petal_length_cm</th>\n",
              "      <th>petal_width_cm</th>\n",
              "      <th>class</th>\n",
              "    </tr>\n",
              "  </thead>\n",
              "  <tbody>\n",
              "    <tr>\n",
              "      <th>0</th>\n",
              "      <td>5.1</td>\n",
              "      <td>3.5</td>\n",
              "      <td>1.4</td>\n",
              "      <td>0.2</td>\n",
              "      <td>Iris-setosa</td>\n",
              "    </tr>\n",
              "    <tr>\n",
              "      <th>1</th>\n",
              "      <td>4.9</td>\n",
              "      <td>3.0</td>\n",
              "      <td>1.4</td>\n",
              "      <td>0.2</td>\n",
              "      <td>Iris-setosa</td>\n",
              "    </tr>\n",
              "    <tr>\n",
              "      <th>2</th>\n",
              "      <td>4.7</td>\n",
              "      <td>3.2</td>\n",
              "      <td>1.3</td>\n",
              "      <td>0.2</td>\n",
              "      <td>Iris-setosa</td>\n",
              "    </tr>\n",
              "    <tr>\n",
              "      <th>3</th>\n",
              "      <td>4.6</td>\n",
              "      <td>3.1</td>\n",
              "      <td>1.5</td>\n",
              "      <td>0.2</td>\n",
              "      <td>Iris-setosa</td>\n",
              "    </tr>\n",
              "    <tr>\n",
              "      <th>4</th>\n",
              "      <td>5.0</td>\n",
              "      <td>3.6</td>\n",
              "      <td>1.4</td>\n",
              "      <td>0.2</td>\n",
              "      <td>Iris-setosa</td>\n",
              "    </tr>\n",
              "  </tbody>\n",
              "</table>\n",
              "</div>"
            ],
            "text/plain": [
              "   sepal_length_cm  sepal_width_cm  ...  petal_width_cm        class\n",
              "0              5.1             3.5  ...             0.2  Iris-setosa\n",
              "1              4.9             3.0  ...             0.2  Iris-setosa\n",
              "2              4.7             3.2  ...             0.2  Iris-setosa\n",
              "3              4.6             3.1  ...             0.2  Iris-setosa\n",
              "4              5.0             3.6  ...             0.2  Iris-setosa\n",
              "\n",
              "[5 rows x 5 columns]"
            ]
          },
          "metadata": {},
          "execution_count": 5
        }
      ]
    },
    {
      "cell_type": "code",
      "metadata": {
        "colab": {
          "base_uri": "https://localhost:8080/",
          "height": 297
        },
        "id": "RrnE4Kx0qxF3",
        "outputId": "d2eb58d2-e168-4b26-b0f5-fe5666798df4"
      },
      "source": [
        "iris_data.describe()"
      ],
      "execution_count": null,
      "outputs": [
        {
          "output_type": "execute_result",
          "data": {
            "text/html": [
              "<div>\n",
              "<style scoped>\n",
              "    .dataframe tbody tr th:only-of-type {\n",
              "        vertical-align: middle;\n",
              "    }\n",
              "\n",
              "    .dataframe tbody tr th {\n",
              "        vertical-align: top;\n",
              "    }\n",
              "\n",
              "    .dataframe thead th {\n",
              "        text-align: right;\n",
              "    }\n",
              "</style>\n",
              "<table border=\"1\" class=\"dataframe\">\n",
              "  <thead>\n",
              "    <tr style=\"text-align: right;\">\n",
              "      <th></th>\n",
              "      <th>sepal_length_cm</th>\n",
              "      <th>sepal_width_cm</th>\n",
              "      <th>petal_length_cm</th>\n",
              "      <th>petal_width_cm</th>\n",
              "    </tr>\n",
              "  </thead>\n",
              "  <tbody>\n",
              "    <tr>\n",
              "      <th>count</th>\n",
              "      <td>150.000000</td>\n",
              "      <td>150.000000</td>\n",
              "      <td>150.000000</td>\n",
              "      <td>145.000000</td>\n",
              "    </tr>\n",
              "    <tr>\n",
              "      <th>mean</th>\n",
              "      <td>5.644627</td>\n",
              "      <td>3.054667</td>\n",
              "      <td>3.758667</td>\n",
              "      <td>1.236552</td>\n",
              "    </tr>\n",
              "    <tr>\n",
              "      <th>std</th>\n",
              "      <td>1.312781</td>\n",
              "      <td>0.433123</td>\n",
              "      <td>1.764420</td>\n",
              "      <td>0.755058</td>\n",
              "    </tr>\n",
              "    <tr>\n",
              "      <th>min</th>\n",
              "      <td>0.055000</td>\n",
              "      <td>2.000000</td>\n",
              "      <td>1.000000</td>\n",
              "      <td>0.100000</td>\n",
              "    </tr>\n",
              "    <tr>\n",
              "      <th>25%</th>\n",
              "      <td>5.100000</td>\n",
              "      <td>2.800000</td>\n",
              "      <td>1.600000</td>\n",
              "      <td>0.400000</td>\n",
              "    </tr>\n",
              "    <tr>\n",
              "      <th>50%</th>\n",
              "      <td>5.700000</td>\n",
              "      <td>3.000000</td>\n",
              "      <td>4.350000</td>\n",
              "      <td>1.300000</td>\n",
              "    </tr>\n",
              "    <tr>\n",
              "      <th>75%</th>\n",
              "      <td>6.400000</td>\n",
              "      <td>3.300000</td>\n",
              "      <td>5.100000</td>\n",
              "      <td>1.800000</td>\n",
              "    </tr>\n",
              "    <tr>\n",
              "      <th>max</th>\n",
              "      <td>7.900000</td>\n",
              "      <td>4.400000</td>\n",
              "      <td>6.900000</td>\n",
              "      <td>2.500000</td>\n",
              "    </tr>\n",
              "  </tbody>\n",
              "</table>\n",
              "</div>"
            ],
            "text/plain": [
              "       sepal_length_cm  sepal_width_cm  petal_length_cm  petal_width_cm\n",
              "count       150.000000      150.000000       150.000000      145.000000\n",
              "mean          5.644627        3.054667         3.758667        1.236552\n",
              "std           1.312781        0.433123         1.764420        0.755058\n",
              "min           0.055000        2.000000         1.000000        0.100000\n",
              "25%           5.100000        2.800000         1.600000        0.400000\n",
              "50%           5.700000        3.000000         4.350000        1.300000\n",
              "75%           6.400000        3.300000         5.100000        1.800000\n",
              "max           7.900000        4.400000         6.900000        2.500000"
            ]
          },
          "metadata": {},
          "execution_count": 6
        }
      ]
    },
    {
      "cell_type": "code",
      "metadata": {
        "id": "dsXeE9f2qxus",
        "colab": {
          "base_uri": "https://localhost:8080/",
          "height": 204
        },
        "outputId": "2f265bc4-4dc1-46bc-8b5a-ab0926a6febf"
      },
      "source": [
        "iris_data.head()"
      ],
      "execution_count": 7,
      "outputs": [
        {
          "output_type": "execute_result",
          "data": {
            "text/html": [
              "<div>\n",
              "<style scoped>\n",
              "    .dataframe tbody tr th:only-of-type {\n",
              "        vertical-align: middle;\n",
              "    }\n",
              "\n",
              "    .dataframe tbody tr th {\n",
              "        vertical-align: top;\n",
              "    }\n",
              "\n",
              "    .dataframe thead th {\n",
              "        text-align: right;\n",
              "    }\n",
              "</style>\n",
              "<table border=\"1\" class=\"dataframe\">\n",
              "  <thead>\n",
              "    <tr style=\"text-align: right;\">\n",
              "      <th></th>\n",
              "      <th>sepal_length_cm</th>\n",
              "      <th>sepal_width_cm</th>\n",
              "      <th>petal_length_cm</th>\n",
              "      <th>petal_width_cm</th>\n",
              "      <th>class</th>\n",
              "    </tr>\n",
              "  </thead>\n",
              "  <tbody>\n",
              "    <tr>\n",
              "      <th>0</th>\n",
              "      <td>5.1</td>\n",
              "      <td>3.5</td>\n",
              "      <td>1.4</td>\n",
              "      <td>0.2</td>\n",
              "      <td>Iris-setosa</td>\n",
              "    </tr>\n",
              "    <tr>\n",
              "      <th>1</th>\n",
              "      <td>4.9</td>\n",
              "      <td>3.0</td>\n",
              "      <td>1.4</td>\n",
              "      <td>0.2</td>\n",
              "      <td>Iris-setosa</td>\n",
              "    </tr>\n",
              "    <tr>\n",
              "      <th>2</th>\n",
              "      <td>4.7</td>\n",
              "      <td>3.2</td>\n",
              "      <td>1.3</td>\n",
              "      <td>0.2</td>\n",
              "      <td>Iris-setosa</td>\n",
              "    </tr>\n",
              "    <tr>\n",
              "      <th>3</th>\n",
              "      <td>4.6</td>\n",
              "      <td>3.1</td>\n",
              "      <td>1.5</td>\n",
              "      <td>0.2</td>\n",
              "      <td>Iris-setosa</td>\n",
              "    </tr>\n",
              "    <tr>\n",
              "      <th>4</th>\n",
              "      <td>5.0</td>\n",
              "      <td>3.6</td>\n",
              "      <td>1.4</td>\n",
              "      <td>0.2</td>\n",
              "      <td>Iris-setosa</td>\n",
              "    </tr>\n",
              "  </tbody>\n",
              "</table>\n",
              "</div>"
            ],
            "text/plain": [
              "   sepal_length_cm  sepal_width_cm  ...  petal_width_cm        class\n",
              "0              5.1             3.5  ...             0.2  Iris-setosa\n",
              "1              4.9             3.0  ...             0.2  Iris-setosa\n",
              "2              4.7             3.2  ...             0.2  Iris-setosa\n",
              "3              4.6             3.1  ...             0.2  Iris-setosa\n",
              "4              5.0             3.6  ...             0.2  Iris-setosa\n",
              "\n",
              "[5 rows x 5 columns]"
            ]
          },
          "metadata": {},
          "execution_count": 7
        }
      ]
    },
    {
      "cell_type": "code",
      "metadata": {
        "colab": {
          "base_uri": "https://localhost:8080/"
        },
        "id": "3oNGQ3nowO1a",
        "outputId": "49e2a6ba-0eca-409c-f1d8-8c885bc859e6"
      },
      "source": [
        "colum=iris_data.columns.tolist()\n",
        "colum"
      ],
      "execution_count": 9,
      "outputs": [
        {
          "output_type": "execute_result",
          "data": {
            "text/plain": [
              "['sepal_length_cm',\n",
              " 'sepal_width_cm',\n",
              " 'petal_length_cm',\n",
              " 'petal_width_cm',\n",
              " 'class']"
            ]
          },
          "metadata": {},
          "execution_count": 9
        }
      ]
    },
    {
      "cell_type": "code",
      "metadata": {
        "colab": {
          "base_uri": "https://localhost:8080/"
        },
        "id": "qe2Ks44xwaxb",
        "outputId": "bc835134-c4df-44cd-d628-64228360ce54"
      },
      "source": [
        "colum=colum[:4]+colum[-2:]+colum[4:5]\n",
        "colum"
      ],
      "execution_count": 10,
      "outputs": [
        {
          "output_type": "execute_result",
          "data": {
            "text/plain": [
              "['sepal_length_cm',\n",
              " 'sepal_width_cm',\n",
              " 'petal_length_cm',\n",
              " 'petal_width_cm',\n",
              " 'petal_width_cm',\n",
              " 'class',\n",
              " 'class']"
            ]
          },
          "metadata": {},
          "execution_count": 10
        }
      ]
    },
    {
      "cell_type": "code",
      "metadata": {
        "colab": {
          "base_uri": "https://localhost:8080/",
          "height": 419
        },
        "id": "bEgXACqJwtn4",
        "outputId": "a86ae09d-3092-4a85-9c32-f971d323e293"
      },
      "source": [
        "iris_data[colum]"
      ],
      "execution_count": 12,
      "outputs": [
        {
          "output_type": "execute_result",
          "data": {
            "text/html": [
              "<div>\n",
              "<style scoped>\n",
              "    .dataframe tbody tr th:only-of-type {\n",
              "        vertical-align: middle;\n",
              "    }\n",
              "\n",
              "    .dataframe tbody tr th {\n",
              "        vertical-align: top;\n",
              "    }\n",
              "\n",
              "    .dataframe thead th {\n",
              "        text-align: right;\n",
              "    }\n",
              "</style>\n",
              "<table border=\"1\" class=\"dataframe\">\n",
              "  <thead>\n",
              "    <tr style=\"text-align: right;\">\n",
              "      <th></th>\n",
              "      <th>sepal_length_cm</th>\n",
              "      <th>sepal_width_cm</th>\n",
              "      <th>petal_length_cm</th>\n",
              "      <th>petal_width_cm</th>\n",
              "      <th>petal_width_cm</th>\n",
              "      <th>class</th>\n",
              "      <th>class</th>\n",
              "    </tr>\n",
              "  </thead>\n",
              "  <tbody>\n",
              "    <tr>\n",
              "      <th>0</th>\n",
              "      <td>5.1</td>\n",
              "      <td>3.5</td>\n",
              "      <td>1.4</td>\n",
              "      <td>0.2</td>\n",
              "      <td>0.2</td>\n",
              "      <td>Iris-setosa</td>\n",
              "      <td>Iris-setosa</td>\n",
              "    </tr>\n",
              "    <tr>\n",
              "      <th>1</th>\n",
              "      <td>4.9</td>\n",
              "      <td>3.0</td>\n",
              "      <td>1.4</td>\n",
              "      <td>0.2</td>\n",
              "      <td>0.2</td>\n",
              "      <td>Iris-setosa</td>\n",
              "      <td>Iris-setosa</td>\n",
              "    </tr>\n",
              "    <tr>\n",
              "      <th>2</th>\n",
              "      <td>4.7</td>\n",
              "      <td>3.2</td>\n",
              "      <td>1.3</td>\n",
              "      <td>0.2</td>\n",
              "      <td>0.2</td>\n",
              "      <td>Iris-setosa</td>\n",
              "      <td>Iris-setosa</td>\n",
              "    </tr>\n",
              "    <tr>\n",
              "      <th>3</th>\n",
              "      <td>4.6</td>\n",
              "      <td>3.1</td>\n",
              "      <td>1.5</td>\n",
              "      <td>0.2</td>\n",
              "      <td>0.2</td>\n",
              "      <td>Iris-setosa</td>\n",
              "      <td>Iris-setosa</td>\n",
              "    </tr>\n",
              "    <tr>\n",
              "      <th>4</th>\n",
              "      <td>5.0</td>\n",
              "      <td>3.6</td>\n",
              "      <td>1.4</td>\n",
              "      <td>0.2</td>\n",
              "      <td>0.2</td>\n",
              "      <td>Iris-setosa</td>\n",
              "      <td>Iris-setosa</td>\n",
              "    </tr>\n",
              "    <tr>\n",
              "      <th>...</th>\n",
              "      <td>...</td>\n",
              "      <td>...</td>\n",
              "      <td>...</td>\n",
              "      <td>...</td>\n",
              "      <td>...</td>\n",
              "      <td>...</td>\n",
              "      <td>...</td>\n",
              "    </tr>\n",
              "    <tr>\n",
              "      <th>145</th>\n",
              "      <td>6.7</td>\n",
              "      <td>3.0</td>\n",
              "      <td>5.2</td>\n",
              "      <td>2.3</td>\n",
              "      <td>2.3</td>\n",
              "      <td>Iris-virginica</td>\n",
              "      <td>Iris-virginica</td>\n",
              "    </tr>\n",
              "    <tr>\n",
              "      <th>146</th>\n",
              "      <td>6.3</td>\n",
              "      <td>2.5</td>\n",
              "      <td>5.0</td>\n",
              "      <td>2.3</td>\n",
              "      <td>2.3</td>\n",
              "      <td>Iris-virginica</td>\n",
              "      <td>Iris-virginica</td>\n",
              "    </tr>\n",
              "    <tr>\n",
              "      <th>147</th>\n",
              "      <td>6.5</td>\n",
              "      <td>3.0</td>\n",
              "      <td>5.2</td>\n",
              "      <td>2.0</td>\n",
              "      <td>2.0</td>\n",
              "      <td>Iris-virginica</td>\n",
              "      <td>Iris-virginica</td>\n",
              "    </tr>\n",
              "    <tr>\n",
              "      <th>148</th>\n",
              "      <td>6.2</td>\n",
              "      <td>3.4</td>\n",
              "      <td>5.4</td>\n",
              "      <td>2.3</td>\n",
              "      <td>2.3</td>\n",
              "      <td>Iris-virginica</td>\n",
              "      <td>Iris-virginica</td>\n",
              "    </tr>\n",
              "    <tr>\n",
              "      <th>149</th>\n",
              "      <td>5.9</td>\n",
              "      <td>3.0</td>\n",
              "      <td>5.1</td>\n",
              "      <td>1.8</td>\n",
              "      <td>1.8</td>\n",
              "      <td>Iris-virginica</td>\n",
              "      <td>Iris-virginica</td>\n",
              "    </tr>\n",
              "  </tbody>\n",
              "</table>\n",
              "<p>150 rows × 7 columns</p>\n",
              "</div>"
            ],
            "text/plain": [
              "     sepal_length_cm  sepal_width_cm  ...           class           class\n",
              "0                5.1             3.5  ...     Iris-setosa     Iris-setosa\n",
              "1                4.9             3.0  ...     Iris-setosa     Iris-setosa\n",
              "2                4.7             3.2  ...     Iris-setosa     Iris-setosa\n",
              "3                4.6             3.1  ...     Iris-setosa     Iris-setosa\n",
              "4                5.0             3.6  ...     Iris-setosa     Iris-setosa\n",
              "..               ...             ...  ...             ...             ...\n",
              "145              6.7             3.0  ...  Iris-virginica  Iris-virginica\n",
              "146              6.3             2.5  ...  Iris-virginica  Iris-virginica\n",
              "147              6.5             3.0  ...  Iris-virginica  Iris-virginica\n",
              "148              6.2             3.4  ...  Iris-virginica  Iris-virginica\n",
              "149              5.9             3.0  ...  Iris-virginica  Iris-virginica\n",
              "\n",
              "[150 rows x 7 columns]"
            ]
          },
          "metadata": {},
          "execution_count": 12
        }
      ]
    },
    {
      "cell_type": "code",
      "metadata": {
        "colab": {
          "base_uri": "https://localhost:8080/",
          "height": 37
        },
        "id": "elybhRWQw1tq",
        "outputId": "09ac9c2d-6c1d-4023-d986-b08eead70aab"
      },
      "source": [
        "colum[1]"
      ],
      "execution_count": 13,
      "outputs": [
        {
          "output_type": "execute_result",
          "data": {
            "application/vnd.google.colaboratory.intrinsic+json": {
              "type": "string"
            },
            "text/plain": [
              "'sepal_width_cm'"
            ]
          },
          "metadata": {},
          "execution_count": 13
        }
      ]
    },
    {
      "cell_type": "code",
      "metadata": {
        "colab": {
          "base_uri": "https://localhost:8080/"
        },
        "id": "CngmzABEw-Ns",
        "outputId": "886129af-ecb2-477b-e58a-01e8cc036c91"
      },
      "source": [
        "otro=iris_data\n",
        "otro[colum[0]]"
      ],
      "execution_count": 14,
      "outputs": [
        {
          "output_type": "execute_result",
          "data": {
            "text/plain": [
              "0      5.1\n",
              "1      4.9\n",
              "2      4.7\n",
              "3      4.6\n",
              "4      5.0\n",
              "      ... \n",
              "145    6.7\n",
              "146    6.3\n",
              "147    6.5\n",
              "148    6.2\n",
              "149    5.9\n",
              "Name: sepal_length_cm, Length: 150, dtype: float64"
            ]
          },
          "metadata": {},
          "execution_count": 14
        }
      ]
    },
    {
      "cell_type": "code",
      "metadata": {
        "id": "0zjt_ZS8xGkY"
      },
      "source": [
        ""
      ],
      "execution_count": null,
      "outputs": []
    }
  ]
}